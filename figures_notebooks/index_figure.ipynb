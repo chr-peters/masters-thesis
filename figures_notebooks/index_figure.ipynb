{
 "cells": [
  {
   "cell_type": "code",
   "execution_count": null,
   "metadata": {},
   "outputs": [],
   "source": [
    "import matplotlib.pyplot as plt\n",
    "import matplotlib.patches as patches\n",
    "import numpy as np"
   ]
  },
  {
   "cell_type": "code",
   "execution_count": null,
   "metadata": {},
   "outputs": [],
   "source": [
    "def polar_to_carthesian(r, theta):\n",
    "    return r * np.array([np.cos(theta), np.sin(theta)])"
   ]
  },
  {
   "cell_type": "code",
   "execution_count": null,
   "metadata": {},
   "outputs": [],
   "source": [
    "# use TeX for typesetting\n",
    "plt.rcParams[\"text.usetex\"] = True\n",
    "plt.rc(\"font\", size=15)\n",
    "\n",
    "fig, ax = plt.subplots()\n",
    "\n",
    "ax.add_patch(patches.Wedge(\n",
    "    center=(0, 0),\n",
    "    r=1,\n",
    "    theta1=0,\n",
    "    theta2=90,\n",
    "    fill=False,\n",
    "    linewidth=2,\n",
    "    zorder=0\n",
    "))\n",
    "\n",
    "point_size = 60\n",
    "\n",
    "# plot p_i-1, p_i and p_i+1\n",
    "points = np.array([\n",
    "    polar_to_carthesian(1, 1 / 8 * np.pi),\n",
    "    polar_to_carthesian(1, 2 / 8 * np.pi),\n",
    "    polar_to_carthesian(1, 3 / 8 * np.pi)\n",
    "])\n",
    "ax.scatter(points[:, 0], points[:, 1], marker=\"o\", facecolors=\"white\", edgecolors=\"black\", linewidths=2, s=point_size)\n",
    "\n",
    "# plot points q_1 and q_2\n",
    "points_q = np.array([\n",
    "    polar_to_carthesian(1, (2 - 0.5) / 8 * np.pi),\n",
    "    polar_to_carthesian(1, (2 + 0.5) / 8 * np.pi),\n",
    "])\n",
    "ax.scatter(points_q[:, 0], points_q[:, 1], color=\"black\", s=point_size, marker=\"o\")\n",
    "\n",
    "# annotate the points\n",
    "ax.annotate(xy=points[0], text=\"$p_{i-1}$\", xytext=(10, 10), textcoords=\"offset pixels\")\n",
    "ax.annotate(xy=points[1], text=\"$p_i$\", xytext=(10, 10), textcoords=\"offset pixels\")\n",
    "ax.annotate(xy=points[2], text=\"$p_{i+1}$\", xytext=(10, 10), textcoords=\"offset pixels\")\n",
    "\n",
    "ax.annotate(xy=points_q[0], text=\"$q_1$\", xytext=(10, 10), textcoords=\"offset pixels\")\n",
    "ax.annotate(xy=points_q[1], text=\"$q_2$\", xytext=(10, 10), textcoords=\"offset pixels\")\n",
    "\n",
    "ax.set_aspect(1)\n",
    "\n",
    "ax.set_ylim(bottom=points[0, 1]-0.15, top=points[2, 1] + 0.15)\n",
    "ax.set_xlim(left=points[2, 0]-0.15, right=points[0, 0]+0.15)\n",
    "\n",
    "fig.tight_layout()\n",
    "\n",
    "fig.savefig(\"../figures/index.pdf\")\n",
    "\n",
    "fig.show()"
   ]
  }
 ],
 "metadata": {
  "interpreter": {
   "hash": "2e2c49551721c736c6e3ce7fea908c4382073d3f8abb523fd4faed0a7d711fae"
  },
  "kernelspec": {
   "display_name": "Python 3.9.4 64-bit ('3.9.4': pyenv)",
   "name": "python3"
  },
  "language_info": {
   "codemirror_mode": {
    "name": "ipython",
    "version": 3
   },
   "file_extension": ".py",
   "mimetype": "text/x-python",
   "name": "python",
   "nbconvert_exporter": "python",
   "pygments_lexer": "ipython3",
   "version": "3.9.5"
  },
  "orig_nbformat": 4
 },
 "nbformat": 4,
 "nbformat_minor": 2
}